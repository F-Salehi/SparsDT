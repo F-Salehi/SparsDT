{
 "cells": [
  {
   "cell_type": "markdown",
   "metadata": {},
   "source": [
    "## Debug the utils\n",
    "import lib"
   ]
  },
  {
   "cell_type": "code",
   "execution_count": 1,
   "metadata": {},
   "outputs": [],
   "source": [
    "import torch"
   ]
  },
  {
   "cell_type": "code",
   "execution_count": 40,
   "metadata": {},
   "outputs": [],
   "source": [
    "A = torch.rand([4,16],dtype=torch.float32,requires_grad=True)\n",
    "A = A / A.data.norm(dim=0)"
   ]
  },
  {
   "cell_type": "code",
   "execution_count": 50,
   "metadata": {},
   "outputs": [
    {
     "data": {
      "text/plain": [
       "True"
      ]
     },
     "execution_count": 50,
     "metadata": {},
     "output_type": "execute_result"
    }
   ],
   "source": [
    "A.type() == 'torch.FloatTensor'"
   ]
  },
  {
   "cell_type": "code",
   "execution_count": 57,
   "metadata": {},
   "outputs": [],
   "source": [
    "A = A.to(torch.float64)"
   ]
  },
  {
   "cell_type": "code",
   "execution_count": 58,
   "metadata": {},
   "outputs": [
    {
     "data": {
      "text/plain": [
       "'torch.DoubleTensor'"
      ]
     },
     "execution_count": 58,
     "metadata": {},
     "output_type": "execute_result"
    }
   ],
   "source": [
    "A.type()"
   ]
  },
  {
   "cell_type": "code",
   "execution_count": 60,
   "metadata": {},
   "outputs": [
    {
     "data": {
      "text/plain": [
       "2"
      ]
     },
     "execution_count": 60,
     "metadata": {},
     "output_type": "execute_result"
    }
   ],
   "source": [
    "len(A.size())"
   ]
  },
  {
   "cell_type": "code",
   "execution_count": 63,
   "metadata": {},
   "outputs": [
    {
     "data": {
      "text/plain": [
       "tensor([[6.0369e-01, 2.8136e-01, 3.0732e-01, 2.5127e-01, 3.1102e-03, 3.6533e-01,\n",
       "         1.7164e-02, 4.0302e-02, 2.9589e-01, 5.1190e-01, 3.4221e-01, 2.8453e-01,\n",
       "         4.1576e-02, 2.7733e-01, 3.9134e-01, 4.8422e-01],\n",
       "        [6.5181e-02, 3.6075e-03, 9.0721e-02, 2.9624e-01, 4.5280e-01, 5.9628e-01,\n",
       "         1.2270e-01, 2.0622e-01, 2.4059e-01, 9.8764e-03, 5.1601e-03, 5.3504e-01,\n",
       "         3.3194e-01, 2.3914e-01, 2.0936e-02, 1.6564e-01],\n",
       "        [2.0659e-01, 3.8466e-01, 4.3042e-01, 4.1211e-02, 2.4611e-01, 1.2896e-03,\n",
       "         3.5683e-01, 7.5347e-01, 3.6922e-03, 7.3387e-03, 1.5314e-01, 1.3747e-01,\n",
       "         3.4994e-01, 4.3619e-01, 1.0973e-01, 1.6162e-01],\n",
       "        [1.2454e-01, 3.3037e-01, 1.7154e-01, 4.1128e-01, 2.9798e-01, 3.7099e-02,\n",
       "         5.0330e-01, 8.0457e-06, 4.5983e-01, 4.7089e-01, 4.9948e-01, 4.2967e-02,\n",
       "         2.7654e-01, 4.7342e-02, 4.7799e-01, 1.8853e-01]], dtype=torch.float64,\n",
       "       grad_fn=<PowBackward0>)"
      ]
     },
     "execution_count": 63,
     "metadata": {},
     "output_type": "execute_result"
    }
   ],
   "source": [
    "A.abs()**2"
   ]
  },
  {
   "cell_type": "code",
   "execution_count": 65,
   "metadata": {},
   "outputs": [
    {
     "data": {
      "text/plain": [
       "tensor(0.2814, dtype=torch.float64, grad_fn=<PowBackward0>)"
      ]
     },
     "execution_count": 65,
     "metadata": {},
     "output_type": "execute_result"
    }
   ],
   "source": [
    "A[0,1]**2"
   ]
  },
  {
   "cell_type": "code",
   "execution_count": 67,
   "metadata": {},
   "outputs": [
    {
     "data": {
      "text/plain": [
       "torch.Size([4])"
      ]
     },
     "execution_count": 67,
     "metadata": {},
     "output_type": "execute_result"
    }
   ],
   "source": [
    "A.mean(dim=1).shape"
   ]
  },
  {
   "cell_type": "code",
   "execution_count": null,
   "metadata": {},
   "outputs": [],
   "source": []
  }
 ],
 "metadata": {
  "kernelspec": {
   "display_name": "Python [default]",
   "language": "python",
   "name": "python3"
  },
  "language_info": {
   "codemirror_mode": {
    "name": "ipython",
    "version": 3
   },
   "file_extension": ".py",
   "mimetype": "text/x-python",
   "name": "python",
   "nbconvert_exporter": "python",
   "pygments_lexer": "ipython3",
   "version": "3.5.5"
  }
 },
 "nbformat": 4,
 "nbformat_minor": 2
}
