{
 "cells": [
  {
   "cell_type": "markdown",
   "metadata": {},
   "source": [
    "## Debug the SparsDT\n",
    "import lib"
   ]
  },
  {
   "cell_type": "code",
   "execution_count": 1,
   "metadata": {},
   "outputs": [],
   "source": [
    "%load_ext autoreload\n",
    "%autoreload 2"
   ]
  },
  {
   "cell_type": "code",
   "execution_count": 2,
   "metadata": {},
   "outputs": [],
   "source": [
    "import sys\n",
    "sys.path.append('../')"
   ]
  },
  {
   "cell_type": "code",
   "execution_count": 3,
   "metadata": {},
   "outputs": [],
   "source": [
    "import torch\n",
    "import numpy as np\n",
    "import lib.models as model"
   ]
  },
  {
   "cell_type": "code",
   "execution_count": 4,
   "metadata": {},
   "outputs": [],
   "source": [
    "Y = torch.rand([10,1600],dtype=torch.float32)"
   ]
  },
  {
   "cell_type": "markdown",
   "metadata": {},
   "source": [
    "### Testing estimating alpha"
   ]
  },
  {
   "cell_type": "code",
   "execution_count": 5,
   "metadata": {},
   "outputs": [
    {
     "name": "stdout",
     "output_type": "stream",
     "text": [
      "================= estimating alpha =================\n",
      "Initialize estimation 100% | estimated_alpha: 1.7373\r"
     ]
    }
   ],
   "source": [
    "SparsDT = model.ModelSparseDT(10,Y, num_samples=1e5)"
   ]
  },
  {
   "cell_type": "markdown",
   "metadata": {},
   "source": [
    "### Testing the optimizer"
   ]
  },
  {
   "cell_type": "code",
   "execution_count": 7,
   "metadata": {},
   "outputs": [],
   "source": [
    "args = {\n",
    "    'lr' : 0.1\n",
    "}\n",
    "SparsDT.set_optimizer('SGD', args)"
   ]
  },
  {
   "cell_type": "markdown",
   "metadata": {},
   "source": [
    "### Testing  estim gamma"
   ]
  },
  {
   "cell_type": "code",
   "execution_count": 12,
   "metadata": {},
   "outputs": [
    {
     "data": {
      "text/plain": [
       "torch.Size([1000])"
      ]
     },
     "execution_count": 12,
     "metadata": {},
     "output_type": "execute_result"
    }
   ],
   "source": [
    "U = torch.randn([SparsDT.m_rows, 1000])\n",
    "a = SparsDT._estimate_gamma(U)\n",
    "a.shape"
   ]
  },
  {
   "cell_type": "markdown",
   "metadata": {},
   "source": [
    "### Testing find U, norm alpha, Loss"
   ]
  },
  {
   "cell_type": "code",
   "execution_count": 18,
   "metadata": {},
   "outputs": [
    {
     "data": {
      "text/plain": [
       "torch.Size([10, 1000])"
      ]
     },
     "execution_count": 18,
     "metadata": {},
     "output_type": "execute_result"
    }
   ],
   "source": [
    "U = SparsDT._findU(1000)\n",
    "U.shape"
   ]
  },
  {
   "cell_type": "code",
   "execution_count": 21,
   "metadata": {},
   "outputs": [
    {
     "data": {
      "text/plain": [
       "torch.Size([1000])"
      ]
     },
     "execution_count": 21,
     "metadata": {},
     "output_type": "execute_result"
    }
   ],
   "source": [
    "norm = SparsDT._norm_alpha(SparsDT.A, U)\n",
    "norm.shape"
   ]
  },
  {
   "cell_type": "code",
   "execution_count": 25,
   "metadata": {},
   "outputs": [
    {
     "data": {
      "text/plain": [
       "tensor(0.1757, grad_fn=<MeanBackward1>)"
      ]
     },
     "execution_count": 25,
     "metadata": {},
     "output_type": "execute_result"
    }
   ],
   "source": [
    "gamma = SparsDT._estimate_gamma(U)\n",
    "l = SparsDT.Loss(U,gamma)\n",
    "l"
   ]
  },
  {
   "cell_type": "markdown",
   "metadata": {},
   "source": [
    "### Testing fit"
   ]
  },
  {
   "cell_type": "code",
   "execution_count": 31,
   "metadata": {},
   "outputs": [],
   "source": [
    "A = SparsDT.fit(max_iter=1e3, rand_U=True, num_col = 100)"
   ]
  },
  {
   "cell_type": "code",
   "execution_count": 33,
   "metadata": {},
   "outputs": [
    {
     "data": {
      "text/plain": [
       "tensor([[0.0998, 0.1480, 0.3857, 0.2743, 0.2340, 0.4496, 0.4147, 0.4628, 0.6434,\n",
       "         0.2958],\n",
       "        [0.0764, 0.2042, 0.2962, 0.0567, 0.1072, 0.3108, 0.3265, 0.1237, 0.1079,\n",
       "         0.2641],\n",
       "        [0.4468, 0.3363, 0.3066, 0.4584, 0.4586, 0.3840, 0.4274, 0.3066, 0.1375,\n",
       "         0.2081],\n",
       "        [0.3095, 0.0185, 0.3475, 0.2308, 0.3421, 0.3220, 0.4224, 0.3423, 0.2060,\n",
       "         0.4105],\n",
       "        [0.0667, 0.4627, 0.2048, 0.4704, 0.4450, 0.3485, 0.1790, 0.0597, 0.2667,\n",
       "         0.3652],\n",
       "        [0.4613, 0.1825, 0.2587, 0.0406, 0.3714, 0.3689, 0.1250, 0.1582, 0.0673,\n",
       "         0.2081],\n",
       "        [0.2698, 0.4357, 0.3731, 0.3369, 0.0953, 0.2913, 0.3691, 0.4004, 0.1355,\n",
       "         0.0479],\n",
       "        [0.0789, 0.3275, 0.3908, 0.2798, 0.2864, 0.1856, 0.3102, 0.3814, 0.1725,\n",
       "         0.1016],\n",
       "        [0.4986, 0.3990, 0.3370, 0.1338, 0.3875, 0.0140, 0.0512, 0.4039, 0.5778,\n",
       "         0.4055],\n",
       "        [0.3312, 0.3095, 0.1226, 0.4444, 0.0549, 0.2263, 0.2260, 0.1728, 0.0933,\n",
       "         0.5040]])"
      ]
     },
     "execution_count": 33,
     "metadata": {},
     "output_type": "execute_result"
    }
   ],
   "source": [
    "A"
   ]
  },
  {
   "cell_type": "code",
   "execution_count": null,
   "metadata": {},
   "outputs": [],
   "source": []
  },
  {
   "cell_type": "code",
   "execution_count": 70,
   "metadata": {},
   "outputs": [],
   "source": [
    "def estim_alpha(num_samples, batch=2000):\n",
    "    \"\"\"\n",
    "    Estimating the alpha using the algorithm in\n",
    "    \"Reconstruction of Ultrasound RF Echoes Modeled as Stable Random Variables\"\n",
    "    num_samples : int\n",
    "        number of samples in the estimator \n",
    "    batch : int\n",
    "        number of added samples in each iteration\n",
    "    returns alpha_hat\n",
    "    \"\"\"\n",
    "    m = Y.shape[0]\n",
    "    alphahat = 0\n",
    "    count = 0\n",
    "    while count <= num_samples:\n",
    "        UT = torch.randn([batch,m])\n",
    "        sig = (1e-7 + UT.mm(Y).abs()).log()           # (batch X k)\n",
    "        print(sig.min(), UT.mm(Y).abs().min())\n",
    "        k1 = sig.mean(dim=1).unsqueeze(1)    # (batch X 1)\n",
    "        k2 = ((sig-k1)**2).mean(dim=1)       # (batch X 1)\n",
    "        alpha_sq = (2 * np.pi**2 /(12*k2*(1 - np.pi**2/(12*k2))))\n",
    "        #if 0<alpha_sq<4 :\n",
    "        alpha_sq[alpha_sq<0] = 0\n",
    "        alpha = alpha_sq ** 0.5\n",
    "        alphahat += alpha.sum() \n",
    "        count += batch\n",
    "    alpha = alphahat/count\n",
    "    return alpha"
   ]
  },
  {
   "cell_type": "code",
   "execution_count": 72,
   "metadata": {},
   "outputs": [],
   "source": [
    "Y = torch.randn([5, 16000], device= 'cpu')"
   ]
  },
  {
   "cell_type": "code",
   "execution_count": 303,
   "metadata": {},
   "outputs": [],
   "source": []
  },
  {
   "cell_type": "code",
   "execution_count": 309,
   "metadata": {},
   "outputs": [],
   "source": [
    "Y = torch.randn([10, 1600],dtype=torch.float32)"
   ]
  },
  {
   "cell_type": "code",
   "execution_count": 164,
   "metadata": {},
   "outputs": [],
   "source": [
    "optimizer = torch.optim.SGD"
   ]
  },
  {
   "cell_type": "code",
   "execution_count": 167,
   "metadata": {},
   "outputs": [
    {
     "ename": "TypeError",
     "evalue": "'type' object is not subscriptable",
     "output_type": "error",
     "traceback": [
      "\u001b[0;31m---------------------------------------------------------------------------\u001b[0m",
      "\u001b[0;31mTypeError\u001b[0m                                 Traceback (most recent call last)",
      "\u001b[0;32m<ipython-input-167-5d8c96e3e318>\u001b[0m in \u001b[0;36m<module>\u001b[0;34m\u001b[0m\n\u001b[0;32m----> 1\u001b[0;31m \u001b[0moptimizer2\u001b[0m \u001b[0;34m=\u001b[0m \u001b[0mtype\u001b[0m\u001b[0;34m(\u001b[0m\u001b[0moptimizer\u001b[0m\u001b[0;34m)\u001b[0m\u001b[0;34m[\u001b[0m\u001b[0mA\u001b[0m\u001b[0;34m]\u001b[0m\u001b[0;34m\u001b[0m\u001b[0m\n\u001b[0m",
      "\u001b[0;31mTypeError\u001b[0m: 'type' object is not subscriptable"
     ]
    }
   ],
   "source": [
    "optimizer2 = type(optimizer)[A] "
   ]
  },
  {
   "cell_type": "code",
   "execution_count": 204,
   "metadata": {},
   "outputs": [],
   "source": [
    "idx = (0.5>A) * (A<2)"
   ]
  },
  {
   "cell_type": "code",
   "execution_count": 205,
   "metadata": {},
   "outputs": [
    {
     "data": {
      "text/plain": [
       "tensor([0.2644, 0.3029, 0.1076, 0.4197], grad_fn=<IndexBackward>)"
      ]
     },
     "execution_count": 205,
     "metadata": {},
     "output_type": "execute_result"
    }
   ],
   "source": [
    "A[idx]"
   ]
  },
  {
   "cell_type": "code",
   "execution_count": 179,
   "metadata": {},
   "outputs": [],
   "source": [
    "AT = A.transpose(1,0)"
   ]
  },
  {
   "cell_type": "code",
   "execution_count": 186,
   "metadata": {},
   "outputs": [
    {
     "data": {
      "text/plain": [
       "torch.Size([16, 4])"
      ]
     },
     "execution_count": 186,
     "metadata": {},
     "output_type": "execute_result"
    }
   ],
   "source": [
    "AT.shape"
   ]
  },
  {
   "cell_type": "code",
   "execution_count": 187,
   "metadata": {},
   "outputs": [],
   "source": [
    "AT = AT / AT.data.norm(dim=1).unsqueeze(dim=1)"
   ]
  },
  {
   "cell_type": "code",
   "execution_count": 223,
   "metadata": {},
   "outputs": [],
   "source": [
    "U = []"
   ]
  },
  {
   "cell_type": "code",
   "execution_count": 268,
   "metadata": {},
   "outputs": [],
   "source": [
    "A = torch.rand([5,16],dtype=torch.float32,requires_grad=True)\n",
    "C = torch.tensor([])\n",
    "B = torch.cat([A,A],dim=1)"
   ]
  },
  {
   "cell_type": "code",
   "execution_count": 21,
   "metadata": {},
   "outputs": [
    {
     "data": {
      "text/plain": [
       "10"
      ]
     },
     "execution_count": 21,
     "metadata": {},
     "output_type": "execute_result"
    }
   ],
   "source": [
    "x = None\n",
    "b = 4 if x else 10\n",
    "b"
   ]
  },
  {
   "cell_type": "code",
   "execution_count": 259,
   "metadata": {},
   "outputs": [],
   "source": [
    "C = torch.tensor([])"
   ]
  },
  {
   "cell_type": "code",
   "execution_count": 264,
   "metadata": {},
   "outputs": [
    {
     "data": {
      "text/plain": [
       "torch.Size([4, 16])"
      ]
     },
     "execution_count": 264,
     "metadata": {},
     "output_type": "execute_result"
    }
   ],
   "source": [
    "AT.transpose(1,0).shape"
   ]
  },
  {
   "cell_type": "code",
   "execution_count": null,
   "metadata": {},
   "outputs": [],
   "source": []
  }
 ],
 "metadata": {
  "kernelspec": {
   "display_name": "Python 3",
   "language": "python",
   "name": "python3"
  },
  "language_info": {
   "codemirror_mode": {
    "name": "ipython",
    "version": 3
   },
   "file_extension": ".py",
   "mimetype": "text/x-python",
   "name": "python",
   "nbconvert_exporter": "python",
   "pygments_lexer": "ipython3",
   "version": "3.7.3"
  }
 },
 "nbformat": 4,
 "nbformat_minor": 2
}
