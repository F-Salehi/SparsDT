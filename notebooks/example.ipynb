{
 "cells": [
  {
   "cell_type": "markdown",
   "metadata": {},
   "source": [
    "# Dictionary Learning Based on levy-stable random variable\n",
    "This notebooks demonstrates how to use the SparsDT algorithm for dictionary learning."
   ]
  },
  {
   "cell_type": "code",
   "execution_count": 1,
   "metadata": {},
   "outputs": [],
   "source": [
    "import sys\n",
    "sys.path.append('../')\n",
    "import torch\n",
    "import numpy as np\n",
    "import lib.models as model\n",
    "import lib.util as util\n",
    "from scipy.stats import levy_stable"
   ]
  },
  {
   "cell_type": "markdown",
   "metadata": {},
   "source": [
    "### Generating data"
   ]
  },
  {
   "cell_type": "code",
   "execution_count": 2,
   "metadata": {},
   "outputs": [],
   "source": [
    "m = 16 \n",
    "n = 24\n",
    "k = 500\n",
    "alpha = 1.2\n",
    "beta = 0"
   ]
  },
  {
   "cell_type": "code",
   "execution_count": 3,
   "metadata": {},
   "outputs": [],
   "source": [
    "A = util.Generate_A(m,n)\n",
    "X = util.Generate_alpha_random(alpha, beta, shape=(n, k))\n",
    "Y = A.mm(X)"
   ]
  },
  {
   "cell_type": "markdown",
   "metadata": {},
   "source": [
    "### Initialize the model and estimate alpha"
   ]
  },
  {
   "cell_type": "code",
   "execution_count": 4,
   "metadata": {},
   "outputs": [
    {
     "name": "stdout",
     "output_type": "stream",
     "text": [
      "================= estimating alpha =================\n",
      "Initialize estimation 100% | estimated_alpha: 1.2626\r"
     ]
    }
   ],
   "source": [
    "SparsDT = model.ModelSparseDT(n,Y, num_samples=1e6)"
   ]
  },
  {
   "cell_type": "markdown",
   "metadata": {},
   "source": [
    "**Setting the optimizer**"
   ]
  },
  {
   "cell_type": "code",
   "execution_count": 5,
   "metadata": {},
   "outputs": [],
   "source": [
    "args = {\n",
    "    'lr' : 0.1\n",
    "}\n",
    "SparsDT.set_optimizer('Adam', args)"
   ]
  },
  {
   "cell_type": "markdown",
   "metadata": {},
   "source": [
    "**Fitting the model**"
   ]
  },
  {
   "cell_type": "code",
   "execution_count": 6,
   "metadata": {},
   "outputs": [
    {
     "name": "stdout",
     "output_type": "stream",
     "text": [
      "it : 999 | loss : 0.0086310291662812234\r"
     ]
    }
   ],
   "source": [
    "Ahat = SparsDT.fit(max_iter=1000, rand_U=True)"
   ]
  },
  {
   "cell_type": "markdown",
   "metadata": {},
   "source": [
    "**Checking the correlation of the learned dictionary**"
   ]
  },
  {
   "cell_type": "code",
   "execution_count": 7,
   "metadata": {},
   "outputs": [
    {
     "name": "stdout",
     "output_type": "stream",
     "text": [
      "Avg Corrolation = 99.2\n"
     ]
    }
   ],
   "source": [
    "avg_cor = util.calc_correct(Ahat, A).mean().numpy()\n",
    "\n",
    "print(f'Avg Corrolation = {round(100*avg_cor,2)}')"
   ]
  }
 ],
 "metadata": {
  "kernelspec": {
   "display_name": "Python 3",
   "language": "python",
   "name": "python3"
  },
  "language_info": {
   "codemirror_mode": {
    "name": "ipython",
    "version": 3
   },
   "file_extension": ".py",
   "mimetype": "text/x-python",
   "name": "python",
   "nbconvert_exporter": "python",
   "pygments_lexer": "ipython3",
   "version": "3.7.3"
  }
 },
 "nbformat": 4,
 "nbformat_minor": 2
}
